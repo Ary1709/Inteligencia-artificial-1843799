{
  "nbformat": 4,
  "nbformat_minor": 0,
  "metadata": {
    "colab": {
      "provenance": [],
      "include_colab_link": true
    },
    "kernelspec": {
      "name": "python3",
      "display_name": "Python 3"
    },
    "language_info": {
      "name": "python"
    }
  },
  "cells": [
    {
      "cell_type": "markdown",
      "metadata": {
        "id": "view-in-github",
        "colab_type": "text"
      },
      "source": [
        "<a href=\"https://colab.research.google.com/github/Ary1709/Inteligencia-artificial-1843799/blob/main/PIA_IA_1.ipynb\" target=\"_parent\"><img src=\"https://colab.research.google.com/assets/colab-badge.svg\" alt=\"Open In Colab\"/></a>"
      ]
    },
    {
      "cell_type": "code",
      "execution_count": null,
      "metadata": {
        "id": "WPZ2VkvzU7PQ"
      },
      "outputs": [],
      "source": [
        "# importar librerías \n",
        "import tensorflow as tf\n",
        "from tensorflow import keras\n",
        "import tensorflow as tf\n",
        "from tensorflow.keras import datasets, layers, models\n",
        "import matplotlib.pyplot as plt\n",
        "import cv2\n",
        "import matplotlib.pyplot as plt\n",
        "import numpy as np\n",
        "import matplotlib.pyplot as plt"
      ]
    },
    {
      "cell_type": "code",
      "source": [
        "# Cargar imagen de prueba\n",
        "i=0\n",
        "f=0\n",
        "label=[]\n",
        "# Formato de imagen\n",
        "imagenes_dataset = []\n",
        "etiquetas_dataset = []\n",
        "while(i<100):\n",
        "\n",
        "  file = '/content/'+str(i)+'.png'\n",
        "  test_image = cv2.imread(file, cv2.IMREAD_GRAYSCALE )\n",
        "  img_resized = cv2.resize(test_image, (28,28), )\n",
        "  img_resized = cv2.bitwise_not(img_resized)\n",
        "\n",
        "  # Preview de imagen reformateada\n",
        "  Numeros='/content/'+str(i)+'.png'\n",
        "  plt.imshow(img_resized, cmap='gray')\n",
        "  if(f==9):\n",
        "    imagenes_dataset.append(img_resized)\n",
        "    etiquetas_dataset.append(f)\n",
        "    \n",
        "    f=0\n",
        "  else :\n",
        "    imagenes_dataset.append(img_resized)\n",
        "    etiquetas_dataset.append(f)\n",
        "   \n",
        "    f=f+1\n",
        "  i=i+1\n",
        "\n",
        "0"
      ],
      "metadata": {
        "id": "dCCtJco2VD0S"
      },
      "execution_count": null,
      "outputs": []
    },
    {
      "cell_type": "code",
      "source": [
        "# para las test\n",
        "i=100\n",
        "f=0\n",
        "imagenestest_dataset = []\n",
        "etiquetastest_dataset = []\n",
        "while(i<200):\n",
        "\n",
        "  file = '/content/'+str(i)+'.png'\n",
        "  test_image = cv2.imread(file, cv2.IMREAD_GRAYSCALE )\n",
        "  img_resized = cv2.resize(test_image, (28,28), )\n",
        "  img_resized = cv2.bitwise_not(img_resized)\n",
        "\n",
        "  # Preview de imagen reformateada\n",
        "  Numeros='/content/'+str(i)+'.png'\n",
        "  plt.imshow(img_resized, cmap='gray')\n",
        "  if(f==9):\n",
        "    imagenestest_dataset.append(img_resized)\n",
        "    etiquetastest_dataset.append(f)\n",
        "    \n",
        "    f=0\n",
        "  else :\n",
        "    imagenestest_dataset.append(img_resized)\n",
        "    etiquetastest_dataset.append(f)\n",
        "   \n",
        "    f=f+1\n",
        "  i=i+1\n"
      ],
      "metadata": {
        "id": "wXpE26HrAw6S"
      },
      "execution_count": null,
      "outputs": []
    },
    {
      "cell_type": "code",
      "source": [
        "plt.figure()\n",
        "plt.imshow(imagenes_dataset[0])\n",
        "plt.colorbar()\n",
        "plt.grid(False)\n",
        "plt.show()"
      ],
      "metadata": {
        "id": "fvMEiqvYS_A8"
      },
      "execution_count": null,
      "outputs": []
    },
    {
      "cell_type": "code",
      "source": [
        "len(etiquetas_dataset)"
      ],
      "metadata": {
        "id": "1_oWpWkSsFwA"
      },
      "execution_count": null,
      "outputs": []
    },
    {
      "cell_type": "code",
      "source": [
        "plt.figure(figsize=(10,10))\n",
        "for j in range(25):\n",
        "    plt.subplot(5,5,j+1)\n",
        "    plt.xticks([])\n",
        "    plt.yticks([])\n",
        "    plt.grid(False)\n",
        "    plt.imshow(imagenes_dataset[j], cmap=plt.cm.binary)\n",
        "    plt.xlabel(etiquetas_dataset[j])\n",
        "plt.show()"
      ],
      "metadata": {
        "id": "suEAMMNRJ3iG"
      },
      "execution_count": null,
      "outputs": []
    },
    {
      "cell_type": "code",
      "source": [
        "model = keras.Sequential([\n",
        "    keras.layers.Flatten(input_shape=(28, 28)),\n",
        "    keras.layers.Dense(128, activation='relu'),\n",
        "    keras.layers.Dense(10, activation='softmax')\n",
        "])"
      ],
      "metadata": {
        "id": "cPiGlvPcXPH0"
      },
      "execution_count": null,
      "outputs": []
    },
    {
      "cell_type": "code",
      "source": [
        "model.compile(optimizer='adam',\n",
        "              loss='sparse_categorical_crossentropy',\n",
        "              metrics=['accuracy'])"
      ],
      "metadata": {
        "id": "kDkKrs1qXQR0"
      },
      "execution_count": null,
      "outputs": []
    },
    {
      "cell_type": "code",
      "source": [
        "\n",
        "newetiqueta=np.array(etiquetas_dataset)\n",
        "newetiquetatest=np.array(etiquetastest_dataset)\n",
        "imagenesne=np.array(imagenes_dataset)\n",
        "imagenesnetest=np.array(imagenestest_dataset)\n"
      ],
      "metadata": {
        "id": "mLzYEHEy3FHT"
      },
      "execution_count": null,
      "outputs": []
    },
    {
      "cell_type": "code",
      "source": [
        "newetiqueta.shape"
      ],
      "metadata": {
        "id": "VGcpKHCI6FIb"
      },
      "execution_count": null,
      "outputs": []
    },
    {
      "cell_type": "code",
      "source": [
        "imagenesne.shape"
      ],
      "metadata": {
        "id": "W5D1rLbN6oGD"
      },
      "execution_count": null,
      "outputs": []
    },
    {
      "cell_type": "code",
      "source": [
        "model.fit(imagenesne, newetiqueta, epochs=10)"
      ],
      "metadata": {
        "id": "UvSeMJL5uzvH"
      },
      "execution_count": null,
      "outputs": []
    },
    {
      "cell_type": "code",
      "source": [
        "test_loss, test_acc = model.evaluate(imagenesnetest, newetiquetatest, verbose=2)\n",
        "\n",
        "print('\\nTest accuracy:', test_acc)"
      ],
      "metadata": {
        "id": "cnRD3DXV_PnU"
      },
      "execution_count": null,
      "outputs": []
    },
    {
      "cell_type": "code",
      "source": [
        "predictions = model.predict(imagenesnetest)"
      ],
      "metadata": {
        "id": "aVzgk_YPCnUl"
      },
      "execution_count": null,
      "outputs": []
    },
    {
      "cell_type": "code",
      "source": [
        "predictions[0]"
      ],
      "metadata": {
        "id": "4JDlE4OKCvSU"
      },
      "execution_count": null,
      "outputs": []
    },
    {
      "cell_type": "code",
      "source": [
        "np.argmax(predictions[0])"
      ],
      "metadata": {
        "id": "ZWPiFU4YC2gJ"
      },
      "execution_count": null,
      "outputs": []
    },
    {
      "cell_type": "code",
      "source": [
        "newetiquetatest[0]"
      ],
      "metadata": {
        "id": "QWolDDumC8mk"
      },
      "execution_count": null,
      "outputs": []
    },
    {
      "cell_type": "code",
      "source": [
        "class_names=('0','1','2','3','4','5','6','7','8','9')"
      ],
      "metadata": {
        "id": "hTsPGe4-Eblq"
      },
      "execution_count": null,
      "outputs": []
    },
    {
      "cell_type": "code",
      "source": [
        "def plot_image(i, predictions_array, true_label, img):\n",
        "  predictions_array, true_label, img = predictions_array, true_label[i], img[i]\n",
        "  plt.grid(False)\n",
        "  plt.xticks([])\n",
        "  plt.yticks([])\n",
        "\n",
        "  plt.imshow(img, cmap=plt.cm.binary)\n",
        "\n",
        "  predicted_label = np.argmax(predictions_array)\n",
        "  if predicted_label == true_label:\n",
        "    color = 'blue'\n",
        "  else:\n",
        "    color = 'red'\n",
        "\n",
        "  plt.xlabel(\"{} {:2.0f}% ({})\".format(class_names[predicted_label],\n",
        "                                100*np.max(predictions_array),\n",
        "                                class_names[true_label]),\n",
        "                                color=color)\n",
        "\n",
        "def plot_value_array(i, predictions_array, true_label):\n",
        "  predictions_array, true_label = predictions_array, true_label[i]\n",
        "  plt.grid(False)\n",
        "  plt.xticks(range(10))\n",
        "  plt.yticks([])\n",
        "  thisplot = plt.bar(range(10), predictions_array, color=\"#777777\")\n",
        "  plt.ylim([0, 1])\n",
        "  predicted_label = np.argmax(predictions_array)\n",
        "\n",
        "  thisplot[predicted_label].set_color('red')\n",
        "  thisplot[true_label].set_color('blue')"
      ],
      "metadata": {
        "id": "NhHEPUcBDGNH"
      },
      "execution_count": null,
      "outputs": []
    },
    {
      "cell_type": "code",
      "source": [
        "i = 0\n",
        "plt.figure(figsize=(6,3))\n",
        "plt.subplot(1,2,1)\n",
        "plot_image(i, predictions[i], newetiquetatest, imagenesnetest)\n",
        "plt.subplot(1,2,2)\n",
        "plot_value_array(i, predictions[i],  newetiquetatest)\n",
        "plt.show()"
      ],
      "metadata": {
        "id": "mmQkx52pDN9x"
      },
      "execution_count": null,
      "outputs": []
    },
    {
      "cell_type": "code",
      "source": [
        "i = 12\n",
        "plt.figure(figsize=(6,3))\n",
        "plt.subplot(1,2,1)\n",
        "plot_image(i, predictions[i], newetiquetatest, imagenesnetest)\n",
        "plt.subplot(1,2,2)\n",
        "plot_value_array(i, predictions[i],  newetiquetatest)\n",
        "plt.show()"
      ],
      "metadata": {
        "id": "JF3uiE8rFIeh"
      },
      "execution_count": null,
      "outputs": []
    },
    {
      "cell_type": "code",
      "source": [
        "# Plot the first X test images, their predicted labels, and the true labels.\n",
        "# Color correct predictions in blue and incorrect predictions in red.\n",
        "num_rows = 5\n",
        "num_cols = 3\n",
        "num_images = num_rows*num_cols\n",
        "plt.figure(figsize=(2*2*num_cols, 2*num_rows))\n",
        "for i in range(num_images):\n",
        "  plt.subplot(num_rows, 2*num_cols, 2*i+1)\n",
        "  plot_image(i, predictions[i], newetiquetatest, imagenesnetest)\n",
        "  plt.subplot(num_rows, 2*num_cols, 2*i+2)\n",
        "  plot_value_array(i, predictions[i], newetiquetatest)\n",
        "plt.tight_layout()\n",
        "plt.show()"
      ],
      "metadata": {
        "id": "x6ekrKWUFcRT"
      },
      "execution_count": null,
      "outputs": []
    },
    {
      "cell_type": "code",
      "source": [
        "img = imagenesnetest[1]\n",
        "\n",
        "print(img.shape)"
      ],
      "metadata": {
        "id": "6gfM85LEFq8G"
      },
      "execution_count": null,
      "outputs": []
    },
    {
      "cell_type": "code",
      "source": [
        "img = (np.expand_dims(img,0))\n",
        "\n",
        "print(img.shape)"
      ],
      "metadata": {
        "id": "TOQ_VMGeFytS"
      },
      "execution_count": null,
      "outputs": []
    },
    {
      "cell_type": "code",
      "source": [
        "predictions_single = model.predict(img)\n",
        "\n",
        "print(predictions_single)"
      ],
      "metadata": {
        "id": "UpqtBf4EF1-4"
      },
      "execution_count": null,
      "outputs": []
    },
    {
      "cell_type": "code",
      "source": [
        "plot_value_array(1, predictions_single[0], newetiquetatest)\n",
        "_ = plt.xticks(range(10), class_names, rotation=45)"
      ],
      "metadata": {
        "id": "VVSRAKUMF6w_"
      },
      "execution_count": null,
      "outputs": []
    },
    {
      "cell_type": "code",
      "source": [
        "np.argmax(predictions_single[0])"
      ],
      "metadata": {
        "id": "O5_c8zbkGCJn"
      },
      "execution_count": null,
      "outputs": []
    }
  ]
}