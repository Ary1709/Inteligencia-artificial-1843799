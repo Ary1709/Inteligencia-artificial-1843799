{
  "nbformat": 4,
  "nbformat_minor": 0,
  "metadata": {
    "colab": {
      "provenance": [],
      "include_colab_link": true
    },
    "kernelspec": {
      "name": "python3",
      "display_name": "Python 3"
    },
    "language_info": {
      "name": "python"
    }
  },
  "cells": [
    {
      "cell_type": "markdown",
      "metadata": {
        "id": "view-in-github",
        "colab_type": "text"
      },
      "source": [
        "<a href=\"https://colab.research.google.com/github/Ary1709/Inteligencia-artificial-1843799/blob/main/PIA_IA_1.ipynb\" target=\"_parent\"><img src=\"https://colab.research.google.com/assets/colab-badge.svg\" alt=\"Open In Colab\"/></a>"
      ]
    },
    {
      "cell_type": "markdown",
      "source": [
        "Ariana Guadalupe Villegas Peña, 1843799, IMTC\n",
        "Omar Josafat Villarreal Márquez, 1934287, IMTC\n",
        "Pedro Estrada Sandoval, 1758756, IMTC\n",
        "\n"
      ],
      "metadata": {
        "id": "H9XbZZZ6Oye0"
      }
    },
    {
      "cell_type": "code",
      "execution_count": null,
      "metadata": {
        "id": "WPZ2VkvzU7PQ"
      },
      "outputs": [],
      "source": [
        "# importar librerías \n",
        "import tensorflow as tf\n",
        "from tensorflow import keras\n",
        "import tensorflow as tf\n",
        "from tensorflow.keras import datasets, layers, models\n",
        "import matplotlib.pyplot as plt\n",
        "import cv2\n",
        "import matplotlib.pyplot as plt\n",
        "import numpy as np\n",
        "import matplotlib.pyplot as plt"
      ]
    },
    {
      "cell_type": "code",
      "source": [
        "# Cargar imagen de prueba\n",
        "i=0\n",
        "f=0\n",
        "label=[]\n",
        "# Formato de imagen\n",
        "imagenes_dataset = []\n",
        "etiquetas_dataset = []\n",
        "while(i<100):\n",
        "\n",
        "  file = '/content/'+str(i)+'.png'\n",
        "  test_image = cv2.imread(file, cv2.IMREAD_GRAYSCALE )\n",
        "  img_resized = cv2.resize(test_image, (28,28), )\n",
        "  img_resized = cv2.bitwise_not(img_resized)\n",
        "\n",
        "  # Preview de imagen reformateada\n",
        "  Numeros='/content/'+str(i)+'.png'\n",
        "  plt.imshow(img_resized, cmap='gray')\n",
        "  if(f==9):\n",
        "    imagenes_dataset.append(img_resized)\n",
        "    etiquetas_dataset.append(f)\n",
        "    \n",
        "    f=0\n",
        "  else :\n",
        "    imagenes_dataset.append(img_resized)\n",
        "    etiquetas_dataset.append(f)\n",
        "   \n",
        "    f=f+1\n",
        "  i=i+1\n",
        "\n",
        "0"
      ],
      "metadata": {
        "colab": {
          "base_uri": "https://localhost:8080/",
          "height": 282
        },
        "id": "dCCtJco2VD0S",
        "outputId": "ee1afa28-c021-4626-b5d7-aa274321b7c5"
      },
      "execution_count": null,
      "outputs": [
        {
          "output_type": "execute_result",
          "data": {
            "text/plain": [
              "0"
            ]
          },
          "metadata": {},
          "execution_count": 4
        },
        {
          "output_type": "display_data",
          "data": {
            "text/plain": [
              "<Figure size 432x288 with 1 Axes>"
            ],
            "image/png": "[encoded data removed]"
          },
          "metadata": {
            "needs_background": "light"
          }
        }
      ]
    },
    {
      "cell_type": "code",
      "source": [],
      "metadata": {
        "id": "WePLntrEOsIE"
      },
      "execution_count": null,
      "outputs": []
    },
    {
      "cell_type": "code",
      "source": [
        "# para las test\n",
        "i=100\n",
        "f=0\n",
        "imagenestest_dataset = []\n",
        "etiquetastest_dataset = []\n",
        "while(i<200):\n",
        "\n",
        "  file = '/content/'+str(i)+'.png'\n",
        "  test_image = cv2.imread(file, cv2.IMREAD_GRAYSCALE )\n",
        "  img_resized = cv2.resize(test_image, (28,28), )\n",
        "  img_resized = cv2.bitwise_not(img_resized)\n",
        "\n",
        "  # Preview de imagen reformateada\n",
        "  Numeros='/content/'+str(i)+'.png'\n",
        "  plt.imshow(img_resized, cmap='gray')\n",
        "  if(f==9):\n",
        "    imagenestest_dataset.append(img_resized)\n",
        "    etiquetastest_dataset.append(f)\n",
        "    \n",
        "    f=0\n",
        "  else :\n",
        "    imagenestest_dataset.append(img_resized)\n",
        "    etiquetastest_dataset.append(f)\n",
        "   \n",
        "    f=f+1\n",
        "  i=i+1\n"
      ],
      "metadata": {
        "colab": {
          "base_uri": "https://localhost:8080/",
          "height": 265
        },
        "id": "wXpE26HrAw6S",
        "outputId": "7261b71c-5743-497c-8f23-a225c3a5a800"
      },
      "execution_count": null,
      "outputs": [
        {
          "output_type": "display_data",
          "data": {
            "text/plain": [
              "<Figure size 432x288 with 1 Axes>"
            ],
            "image/png": "[encoded data removed]"
          },
          "metadata": {
            "needs_background": "light"
          }
        }
      ]
    },
    {
      "cell_type": "code",
      "source": [
        "plt.figure()\n",
        "plt.imshow(imagenes_dataset[0])\n",
        "plt.colorbar()\n",
        "plt.grid(False)\n",
        "plt.show()"
      ],
      "metadata": {
        "colab": {
          "base_uri": "https://localhost:8080/",
          "height": 265
        },
        "id": "fvMEiqvYS_A8",
        "outputId": "14a73cdf-1962-4a09-9543-97d96c966514"
      },
      "execution_count": null,
      "outputs": [
        {
          "output_type": "display_data",
          "data": {
            "text/plain": [
              "<Figure size 432x288 with 2 Axes>"
            ],
            "image/png": "[encoded data removed]"
          },
          "metadata": {
            "needs_background": "light"
          }
        }
      ]
    },
    {
      "cell_type": "code",
      "source": [
        "len(etiquetas_dataset)"
      ],
      "metadata": {
        "colab": {
          "base_uri": "https://localhost:8080/"
        },
        "id": "1_oWpWkSsFwA",
        "outputId": "33d8c667-6489-4537-a60f-ed6686fbb3b6"
      },
      "execution_count": null,
      "outputs": [
        {
          "output_type": "execute_result",
          "data": {
            "text/plain": [
              "100"
            ]
          },
          "metadata": {},
          "execution_count": 32
        }
      ]
    },
    {
      "cell_type": "code",
      "source": [
        "plt.figure(figsize=(10,10))\n",
        "for j in range(25):\n",
        "    plt.subplot(5,5,j+1)\n",
        "    plt.xticks([])\n",
        "    plt.yticks([])\n",
        "    plt.grid(False)\n",
        "    plt.imshow(imagenes_dataset[j], cmap=plt.cm.binary)\n",
        "    plt.xlabel(etiquetas_dataset[j])\n",
        "plt.show()"
      ],
      "metadata": {
        "colab": {
          "base_uri": "https://localhost:8080/",
          "height": 589
        },
        "id": "suEAMMNRJ3iG",
        "outputId": "43e14b37-af02-440e-cb6e-7060e1be277a"
      },
      "execution_count": null,
      "outputs": [
        {
          "output_type": "display_data",
          "data": {
            "text/plain": [
              "<Figure size 720x720 with 25 Axes>"
            ],
            "image/png": "[encoded data removed]"
          },
          "metadata": {}
        }
      ]
    },
    {
      "cell_type": "code",
      "source": [
        "model = keras.Sequential([\n",
        "    keras.layers.Flatten(input_shape=(28, 28)),\n",
        "    keras.layers.Dense(128, activation='relu'),\n",
        "    keras.layers.Dense(10, activation='softmax')\n",
        "])"
      ],
      "metadata": {
        "id": "cPiGlvPcXPH0"
      },
      "execution_count": null,
      "outputs": []
    },
    {
      "cell_type": "code",
      "source": [
        "model.compile(optimizer='adam',\n",
        "              loss='sparse_categorical_crossentropy',\n",
        "              metrics=['accuracy'])"
      ],
      "metadata": {
        "id": "kDkKrs1qXQR0"
      },
      "execution_count": null,
      "outputs": []
    },
    {
      "cell_type": "code",
      "source": [
        "\n",
        "newetiqueta=np.array(etiquetas_dataset)\n",
        "newetiquetatest=np.array(etiquetastest_dataset)\n",
        "imagenesne=np.array(imagenes_dataset)\n",
        "imagenesnetest=np.array(imagenestest_dataset)\n"
      ],
      "metadata": {
        "id": "mLzYEHEy3FHT"
      },
      "execution_count": null,
      "outputs": []
    },
    {
      "cell_type": "code",
      "source": [
        "newetiqueta.shape"
      ],
      "metadata": {
        "colab": {
          "base_uri": "https://localhost:8080/"
        },
        "id": "VGcpKHCI6FIb",
        "outputId": "029f6966-544b-4751-c688-bfbdc91157e9"
      },
      "execution_count": null,
      "outputs": [
        {
          "output_type": "execute_result",
          "data": {
            "text/plain": [
              "(100,)"
            ]
          },
          "metadata": {},
          "execution_count": 57
        }
      ]
    },
    {
      "cell_type": "code",
      "source": [
        "imagenesne.shape"
      ],
      "metadata": {
        "colab": {
          "base_uri": "https://localhost:8080/"
        },
        "id": "W5D1rLbN6oGD",
        "outputId": "9f438eb2-0efa-41e2-c357-864ee949fe56"
      },
      "execution_count": null,
      "outputs": [
        {
          "output_type": "execute_result",
          "data": {
            "text/plain": [
              "(100, 28, 28)"
            ]
          },
          "metadata": {},
          "execution_count": 58
        }
      ]
    },
    {
      "cell_type": "code",
      "source": [
        "model.fit(imagenesne, newetiqueta, epochs=10)"
      ],
      "metadata": {
        "colab": {
          "base_uri": "https://localhost:8080/"
        },
        "id": "UvSeMJL5uzvH",
        "outputId": "252a2cbf-ce9b-4056-f34d-0b9c9aebf888"
      },
      "execution_count": null,
      "outputs": [
        {
          "output_type": "stream",
          "name": "stdout",
          "text": [
            "Epoch 1/10\n",
            "4/4 [==============================] - 1s 6ms/step - loss: 83.9546 - accuracy: 0.1400\n",
            "Epoch 2/10\n",
            "4/4 [==============================] - 0s 6ms/step - loss: 24.7145 - accuracy: 0.4600\n",
            "Epoch 3/10\n",
            "4/4 [==============================] - 0s 7ms/step - loss: 8.4006 - accuracy: 0.7300\n",
            "Epoch 4/10\n",
            "4/4 [==============================] - 0s 8ms/step - loss: 1.8267 - accuracy: 0.9000\n",
            "Epoch 5/10\n",
            "4/4 [==============================] - 0s 5ms/step - loss: 0.2216 - accuracy: 0.9800\n",
            "Epoch 6/10\n",
            "4/4 [==============================] - 0s 6ms/step - loss: 0.0206 - accuracy: 0.9900\n",
            "Epoch 7/10\n",
            "4/4 [==============================] - 0s 6ms/step - loss: 0.0401 - accuracy: 0.9900\n",
            "Epoch 8/10\n",
            "4/4 [==============================] - 0s 5ms/step - loss: 0.0024 - accuracy: 1.0000\n",
            "Epoch 9/10\n",
            "4/4 [==============================] - 0s 6ms/step - loss: 2.2552e-06 - accuracy: 1.0000\n",
            "Epoch 10/10\n",
            "4/4 [==============================] - 0s 5ms/step - loss: 6.4090e-06 - accuracy: 1.0000\n"
          ]
        },
        {
          "output_type": "execute_result",
          "data": {
            "text/plain": [
              "<keras.callbacks.History at 0x7fb3a68af610>"
            ]
          },
          "metadata": {},
          "execution_count": 19
        }
      ]
    },
    {
      "cell_type": "code",
      "source": [
        "test_loss, test_acc = model.evaluate(imagenesnetest, newetiquetatest, verbose=2)\n",
        "\n",
        "print('\\nTest accuracy:', test_acc)"
      ],
      "metadata": {
        "colab": {
          "base_uri": "https://localhost:8080/"
        },
        "id": "cnRD3DXV_PnU",
        "outputId": "eb3ecde8-46ed-4603-dae4-c64f897dc506"
      },
      "execution_count": null,
      "outputs": [
        {
          "output_type": "stream",
          "name": "stdout",
          "text": [
            "7/7 - 0s - loss: 39.9920 - accuracy: 0.5850 - 32ms/epoch - 5ms/step\n",
            "\n",
            "Test accuracy: 0.5849999785423279\n"
          ]
        }
      ]
    },
    {
      "cell_type": "code",
      "source": [
        "predictions = model.predict(imagenesnetest)"
      ],
      "metadata": {
        "colab": {
          "base_uri": "https://localhost:8080/"
        },
        "id": "aVzgk_YPCnUl",
        "outputId": "101af7bb-ede5-4036-f51b-19f014f0db18"
      },
      "execution_count": null,
      "outputs": [
        {
          "output_type": "stream",
          "name": "stdout",
          "text": [
            "4/4 [==============================] - 0s 4ms/step\n"
          ]
        }
      ]
    },
    {
      "cell_type": "code",
      "source": [
        "predictions[0]"
      ],
      "metadata": {
        "colab": {
          "base_uri": "https://localhost:8080/"
        },
        "id": "4JDlE4OKCvSU",
        "outputId": "10c3b6aa-fa91-4f29-afcd-ca5b383425b2"
      },
      "execution_count": null,
      "outputs": [
        {
          "output_type": "execute_result",
          "data": {
            "text/plain": [
              "array([0.0000000e+00, 0.0000000e+00, 2.8663299e-03, 0.0000000e+00,\n",
              "       0.0000000e+00, 8.2859759e-16, 0.0000000e+00, 0.0000000e+00,\n",
              "       9.9713361e-01, 0.0000000e+00], dtype=float32)"
            ]
          },
          "metadata": {},
          "execution_count": 60
        }
      ]
    },
    {
      "cell_type": "code",
      "source": [
        "np.argmax(predictions[0])"
      ],
      "metadata": {
        "colab": {
          "base_uri": "https://localhost:8080/"
        },
        "id": "ZWPiFU4YC2gJ",
        "outputId": "e1b2b2fa-d8a9-4d3e-fc96-ca2d4180f7ee"
      },
      "execution_count": null,
      "outputs": [
        {
          "output_type": "execute_result",
          "data": {
            "text/plain": [
              "8"
            ]
          },
          "metadata": {},
          "execution_count": 61
        }
      ]
    },
    {
      "cell_type": "code",
      "source": [
        "newetiquetatest[0]"
      ],
      "metadata": {
        "colab": {
          "base_uri": "https://localhost:8080/"
        },
        "id": "QWolDDumC8mk",
        "outputId": "6f5433b8-72db-4637-a21e-f8fee6040457"
      },
      "execution_count": null,
      "outputs": [
        {
          "output_type": "execute_result",
          "data": {
            "text/plain": [
              "0"
            ]
          },
          "metadata": {},
          "execution_count": 62
        }
      ]
    },
    {
      "cell_type": "code",
      "source": [
        "class_names=('0','1','2','3','4','5','6','7','8','9')"
      ],
      "metadata": {
        "id": "hTsPGe4-Eblq"
      },
      "execution_count": null,
      "outputs": []
    },
    {
      "cell_type": "code",
      "source": [
        "def plot_image(i, predictions_array, true_label, img):\n",
        "  predictions_array, true_label, img = predictions_array, true_label[i], img[i]\n",
        "  plt.grid(False)\n",
        "  plt.xticks([])\n",
        "  plt.yticks([])\n",
        "\n",
        "  plt.imshow(img, cmap=plt.cm.binary)\n",
        "\n",
        "  predicted_label = np.argmax(predictions_array)\n",
        "  if predicted_label == true_label:\n",
        "    color = 'blue'\n",
        "  else:\n",
        "    color = 'red'\n",
        "\n",
        "  plt.xlabel(\"{} {:2.0f}% ({})\".format(class_names[predicted_label],\n",
        "                                100*np.max(predictions_array),\n",
        "                                class_names[true_label]),\n",
        "                                color=color)\n",
        "\n",
        "def plot_value_array(i, predictions_array, true_label):\n",
        "  predictions_array, true_label = predictions_array, true_label[i]\n",
        "  plt.grid(False)\n",
        "  plt.xticks(range(10))\n",
        "  plt.yticks([])\n",
        "  thisplot = plt.bar(range(10), predictions_array, color=\"#777777\")\n",
        "  plt.ylim([0, 1])\n",
        "  predicted_label = np.argmax(predictions_array)\n",
        "\n",
        "  thisplot[predicted_label].set_color('red')\n",
        "  thisplot[true_label].set_color('blue')"
      ],
      "metadata": {
        "id": "NhHEPUcBDGNH"
      },
      "execution_count": null,
      "outputs": []
    },
    {
      "cell_type": "code",
      "source": [
        "i = 0\n",
        "plt.figure(figsize=(6,3))\n",
        "plt.subplot(1,2,1)\n",
        "plot_image(i, predictions[i], newetiquetatest, imagenesnetest)\n",
        "plt.subplot(1,2,2)\n",
        "plot_value_array(i, predictions[i],  newetiquetatest)\n",
        "plt.show()"
      ],
      "metadata": {
        "colab": {
          "base_uri": "https://localhost:8080/",
          "height": 211
        },
        "id": "mmQkx52pDN9x",
        "outputId": "57002fe9-3ffa-45f0-bbe8-fc9ef04215fa"
      },
      "execution_count": null,
      "outputs": [
        {
          "output_type": "display_data",
          "data": {
            "text/plain": [
              "<Figure size 432x216 with 2 Axes>"
            ],
            "image/png": "[encoded data removed]"
          },
          "metadata": {
            "needs_background": "light"
          }
        }
      ]
    },
    {
      "cell_type": "code",
      "source": [
        "i = 12\n",
        "plt.figure(figsize=(6,3))\n",
        "plt.subplot(1,2,1)\n",
        "plot_image(i, predictions[i], newetiquetatest, imagenesnetest)\n",
        "plt.subplot(1,2,2)\n",
        "plot_value_array(i, predictions[i],  newetiquetatest)\n",
        "plt.show()"
      ],
      "metadata": {
        "colab": {
          "base_uri": "https://localhost:8080/",
          "height": 211
        },
        "id": "JF3uiE8rFIeh",
        "outputId": "349c548a-8773-40b2-b50b-5b1bfa611f1b"
      },
      "execution_count": null,
      "outputs": [
        {
          "output_type": "display_data",
          "data": {
            "text/plain": [
              "<Figure size 432x216 with 2 Axes>"
            ],
            "image/png": "[encoded data removed]"
          },
          "metadata": {
            "needs_background": "light"
          }
        }
      ]
    },
    {
      "cell_type": "code",
      "source": [
        "# Plot the first X test images, their predicted labels, and the true labels.\n",
        "# Color correct predictions in blue and incorrect predictions in red.\n",
        "num_rows = 5\n",
        "num_cols = 3\n",
        "num_images = num_rows*num_cols\n",
        "plt.figure(figsize=(2*2*num_cols, 2*num_rows))\n",
        "for i in range(num_images):\n",
        "  plt.subplot(num_rows, 2*num_cols, 2*i+1)\n",
        "  plot_image(i, predictions[i], newetiquetatest, imagenesnetest)\n",
        "  plt.subplot(num_rows, 2*num_cols, 2*i+2)\n",
        "  plot_value_array(i, predictions[i], newetiquetatest)\n",
        "plt.tight_layout()\n",
        "plt.show()"
      ],
      "metadata": {
        "colab": {
          "base_uri": "https://localhost:8080/",
          "height": 729
        },
        "id": "x6ekrKWUFcRT",
        "outputId": "b14b4e53-d51c-4e56-957c-1f01cfd05daf"
      },
      "execution_count": null,
      "outputs": [
        {
          "output_type": "display_data",
          "data": {
            "text/plain": [
              "<Figure size 864x720 with 30 Axes>"
            ],
            "image/png": "[encoded data removed]"
          },
          "metadata": {
            "needs_background": "light"
          }
        }
      ]
    },
    {
      "cell_type": "code",
      "source": [
        "img = imagenesnetest[1]\n",
        "\n",
        "print(img.shape)"
      ],
      "metadata": {
        "colab": {
          "base_uri": "https://localhost:8080/"
        },
        "id": "6gfM85LEFq8G",
        "outputId": "93fcce40-6c4b-441d-e295-44179c7f1756"
      },
      "execution_count": null,
      "outputs": [
        {
          "output_type": "stream",
          "name": "stdout",
          "text": [
            "(28, 28)\n"
          ]
        }
      ]
    },
    {
      "cell_type": "code",
      "source": [
        "img = (np.expand_dims(img,0))\n",
        "\n",
        "print(img.shape)"
      ],
      "metadata": {
        "colab": {
          "base_uri": "https://localhost:8080/"
        },
        "id": "TOQ_VMGeFytS",
        "outputId": "51f4c1b1-ddb5-49c6-e6ef-809b803e0da1"
      },
      "execution_count": null,
      "outputs": [
        {
          "output_type": "stream",
          "name": "stdout",
          "text": [
            "(1, 28, 28)\n"
          ]
        }
      ]
    },
    {
      "cell_type": "code",
      "source": [
        "predictions_single = model.predict(img)\n",
        "\n",
        "print(predictions_single)"
      ],
      "metadata": {
        "colab": {
          "base_uri": "https://localhost:8080/"
        },
        "id": "UpqtBf4EF1-4",
        "outputId": "89bcaba6-e067-4775-a6ee-31670373ef74"
      },
      "execution_count": null,
      "outputs": [
        {
          "output_type": "stream",
          "name": "stdout",
          "text": [
            "1/1 [==============================] - 0s 19ms/step\n",
            "[[0.0000000e+00 8.9183116e-22 1.5105483e-13 5.2005010e-28 6.2675049e-34\n",
            "  0.0000000e+00 8.3535774e-08 3.5870491e-27 9.9999988e-01 0.0000000e+00]]\n"
          ]
        }
      ]
    },
    {
      "cell_type": "code",
      "source": [
        "plot_value_array(1, predictions_single[0], newetiquetatest)\n",
        "_ = plt.xticks(range(10), class_names, rotation=45)"
      ],
      "metadata": {
        "colab": {
          "base_uri": "https://localhost:8080/",
          "height": 267
        },
        "id": "VVSRAKUMF6w_",
        "outputId": "6056cae6-a524-4b9f-a30c-dab854f7ea95"
      },
      "execution_count": null,
      "outputs": [
        {
          "output_type": "display_data",
          "data": {
            "text/plain": [
              "<Figure size 432x288 with 1 Axes>"
            ],
            "image/png": "[encoded data removed]"
          },
          "metadata": {
            "needs_background": "light"
          }
        }
      ]
    },
    {
      "cell_type": "code",
      "source": [
        "np.argmax(predictions_single[0])"
      ],
      "metadata": {
        "colab": {
          "base_uri": "https://localhost:8080/"
        },
        "id": "O5_c8zbkGCJn",
        "outputId": "401f12de-98ef-4198-93ae-6bfc4badbbcf"
      },
      "execution_count": null,
      "outputs": [
        {
          "output_type": "execute_result",
          "data": {
            "text/plain": [
              "8"
            ]
          },
          "metadata": {},
          "execution_count": 72
        }
      ]
    }
  ]
}