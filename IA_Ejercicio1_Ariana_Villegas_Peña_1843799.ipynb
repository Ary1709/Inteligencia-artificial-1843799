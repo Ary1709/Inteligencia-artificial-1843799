{
  "nbformat": 4,
  "nbformat_minor": 0,
  "metadata": {
    "colab": {
      "provenance": [],
      "collapsed_sections": [],
      "authorship_tag": "ABX9TyOpe2YsoiWH8nXNoduwZKyY",
      "include_colab_link": true
    },
    "kernelspec": {
      "name": "python3",
      "display_name": "Python 3"
    },
    "language_info": {
      "name": "python"
    }
  },
  "cells": [
    {
      "cell_type": "markdown",
      "metadata": {
        "id": "view-in-github",
        "colab_type": "text"
      },
      "source": [
        "<a href=\"https://colab.research.google.com/github/Ary1709/Inteligencia-artificial-1843799/blob/main/IA_Ejercicio1_Ariana_Villegas_Pe%C3%B1a_1843799.ipynb\" target=\"_parent\"><img src=\"https://colab.research.google.com/assets/colab-badge.svg\" alt=\"Open In Colab\"/></a>"
      ]
    },
    {
      "cell_type": "markdown",
      "source": [
        "A2: Ejercicios en Python 1. Ariana Guadalupe Villegas Peña, 1843799, N1"
      ],
      "metadata": {
        "id": "Zr72B-So5XzT"
      }
    },
    {
      "cell_type": "code",
      "source": [
        "lista=[\"bastones\", \"de\", \"caramelo\", \"y\", \"piña\", \"y\", \"epico\", \"y\", \"asombroso\"]\n",
        "print (\"**********\")\n",
        "for i in range(len(lista)):\n",
        "  print(\"*{}*\" .format(lista[i]))\n",
        "print(\"***********\")"
      ],
      "metadata": {
        "colab": {
          "base_uri": "https://localhost:8080/"
        },
        "id": "RWr9BcU85jHs",
        "outputId": "1bf02a60-b637-4b13-9f37-cb27b81bd412"
      },
      "execution_count": 13,
      "outputs": [
        {
          "output_type": "stream",
          "name": "stdout",
          "text": [
            "**********\n",
            "*bastones*\n",
            "*de*\n",
            "*caramelo*\n",
            "*y*\n",
            "*piña*\n",
            "*y*\n",
            "*epico*\n",
            "*y*\n",
            "*asombroso*\n",
            "***********\n"
          ]
        }
      ]
    },
    {
      "cell_type": "code",
      "source": [
        "import sys\n",
        "lista=['Dante', 'Ox', 'Joe', 'Will']\n",
        "ultimo_elemento=lista[-1]\n",
        "print(\"ultimo elemento:\", ultimo_elemento)\n",
        "lista.reverse()\n",
        "print(\"lista invertida:\", lista)"
      ],
      "metadata": {
        "colab": {
          "base_uri": "https://localhost:8080/"
        },
        "id": "hjPsyZzQ7Mjt",
        "outputId": "99d9a3d2-98bf-46be-e2fb-f0afeac4b5d1"
      },
      "execution_count": 14,
      "outputs": [
        {
          "output_type": "stream",
          "name": "stdout",
          "text": [
            "ultimo elemento: Will\n",
            "lista invertida: ['Will', 'Joe', 'Ox', 'Dante']\n"
          ]
        }
      ]
    },
    {
      "cell_type": "code",
      "source": [],
      "metadata": {
        "id": "2D3KeEDJ8VJU"
      },
      "execution_count": 13,
      "outputs": []
    }
  ]
}